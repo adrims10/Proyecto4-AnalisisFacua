{
 "cells": [
  {
   "cell_type": "code",
   "execution_count": 1,
   "metadata": {},
   "outputs": [],
   "source": [
    "from bs4 import BeautifulSoup\n",
    "import requests\n",
    "import pandas as pd\n",
    "import numpy as np\n",
    "from time import sleep\n",
    "from selenium import webdriver  \n",
    "from webdriver_manager.chrome import ChromeDriverManager \n",
    "from selenium.webdriver.common.keys import Keys  \n",
    "from selenium.webdriver.support.ui import Select  \n",
    "from selenium.webdriver.support.ui import WebDriverWait\n",
    "from selenium.webdriver.support import expected_conditions as EC\n",
    "from selenium.common.exceptions import NoSuchElementException \n",
    "import re"
   ]
  },
  {
   "cell_type": "code",
   "execution_count": 18,
   "metadata": {},
   "outputs": [],
   "source": [
    "def obtener_urls_productos(supermercados, categorias):\n",
    "    urls_totales = []\n",
    "\n",
    "    for supermercado in supermercados:\n",
    "        for categoria in categorias:\n",
    "            url = f'https://super.facua.org/{supermercado}/{categoria}/'\n",
    "            \n",
    "            res = requests.get(url)\n",
    "            if res.status_code == 200:\n",
    "                pass\n",
    "            else:\n",
    "                print(f\"Error en la solicitud para {supermercado} en {categoria}\")\n",
    "                continue  \n",
    "\n",
    "            sopa_actividades = BeautifulSoup(res.content, \"html.parser\")\n",
    "            lista_productos = sopa_actividades.findAll(\"div\", {'class': 'card-footer p-4 pt-0 border-top-0 bg-transparent'})\n",
    "            \n",
    "        \n",
    "            for producto in lista_productos:\n",
    "                Url = producto.findAll('a', href=True)\n",
    "                for url in Url:\n",
    "                    clean_url = url['href']\n",
    "                    urls_totales.append(clean_url)\n",
    "\n",
    "    return urls_totales\n",
    "\n",
    "supermercados = ['mercadona', 'carrefour', 'eroski', 'dia', 'hipercor', 'alcampo']\n",
    "categorias = ['aceite-de-girasol', 'aceite-de-oliva', 'leche']\n",
    "urls_productos = obtener_urls_productos(supermercados, categorias)\n"
   ]
  },
  {
   "cell_type": "code",
   "execution_count": null,
   "metadata": {},
   "outputs": [],
   "source": []
  }
 ],
 "metadata": {
  "kernelspec": {
   "display_name": "Python 3",
   "language": "python",
   "name": "python3"
  },
  "language_info": {
   "codemirror_mode": {
    "name": "ipython",
    "version": 3
   },
   "file_extension": ".py",
   "mimetype": "text/x-python",
   "name": "python",
   "nbconvert_exporter": "python",
   "pygments_lexer": "ipython3",
   "version": "3.12.6"
  }
 },
 "nbformat": 4,
 "nbformat_minor": 2
}
