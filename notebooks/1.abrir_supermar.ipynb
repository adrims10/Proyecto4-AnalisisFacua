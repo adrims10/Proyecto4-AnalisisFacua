{
 "cells": [
  {
   "cell_type": "code",
   "execution_count": 1,
   "metadata": {},
   "outputs": [],
   "source": [
    "from bs4 import BeautifulSoup\n",
    "import requests\n",
    "import pandas as pd\n",
    "import numpy as np\n",
    "from time import sleep\n",
    "from selenium import webdriver  \n",
    "from webdriver_manager.chrome import ChromeDriverManager \n",
    "from selenium.webdriver.common.keys import Keys  \n",
    "from selenium.webdriver.support.ui import Select  \n",
    "from selenium.webdriver.support.ui import WebDriverWait\n",
    "from selenium.webdriver.support import expected_conditions as EC\n",
    "from selenium.common.exceptions import NoSuchElementException \n",
    "import re"
   ]
  },
  {
   "cell_type": "code",
   "execution_count": 22,
   "metadata": {},
   "outputs": [],
   "source": [
    "# Llegamos a la pagina donde carrefour\n",
    "\n",
    "driver = webdriver.Chrome()             \n",
    "url = 'https://super.facua.org/'\n",
    "driver.get(url)\n",
    "driver.maximize_window()  \n",
    "driver.find_element('css selector','#rcc-confirm-button').click()"
   ]
  },
  {
   "cell_type": "code",
   "execution_count": 25,
   "metadata": {},
   "outputs": [],
   "source": [
    "\n",
    "super = ['mercadona','carrefour','eroski','dia','hipercor','alcampo']\n",
    "categoria = ['aceite-de-girasol','aceite-de-oliva','leche']\n",
    "url = f'https://super.facua.org/{super}/{categoria}/'\n"
   ]
  },
  {
   "cell_type": "code",
   "execution_count": 64,
   "metadata": {},
   "outputs": [
    {
     "name": "stdout",
     "output_type": "stream",
     "text": [
      "Solicitud exitosa\n"
     ]
    }
   ],
   "source": [
    "res = requests.get(url)\n",
    "if res.status_code == 200:\n",
    "    print(\"Solicitud exitosa\")\n",
    "else:\n",
    "    print(\"Error en la solicitud\")\n",
    "\n",
    "\n",
    "sopa_actividades = BeautifulSoup(res.content, \"html.parser\")\n",
    "lista_productos = sopa_actividades.findAll(\"div\", {'class': 'card-footer p-4 pt-0 border-top-0 bg-transparent'})\n"
   ]
  },
  {
   "cell_type": "code",
   "execution_count": 69,
   "metadata": {},
   "outputs": [],
   "source": [
    "    \n",
    "urls = []\n",
    "\n",
    "for producto in lista_productos:\n",
    "    Url = producto.findAll('a',href=True)\n",
    "    for url in Url:\n",
    "        clean_url = url['href']\n",
    "        urls.append(clean_url)\n"
   ]
  },
  {
   "cell_type": "code",
   "execution_count": 70,
   "metadata": {},
   "outputs": [
    {
     "data": {
      "text/plain": [
       "['https://super.facua.org/mercadona/aceite-de-oliva/suave-e-intenso/',\n",
       " 'https://super.facua.org/mercadona/aceite-de-oliva/virgen/',\n",
       " 'https://super.facua.org/mercadona/aceite-de-oliva/virgen-extra/',\n",
       " 'https://super.facua.org/mercadona/aceite-de-oliva/aceite-de-oliva-04-hacendado/',\n",
       " 'https://super.facua.org/mercadona/aceite-de-oliva/aceite-de-oliva-1-hacendado-botella-1-l/',\n",
       " 'https://super.facua.org/mercadona/aceite-de-oliva/aceite-de-oliva-intenso-hacendado-garrafa-3-l/',\n",
       " 'https://super.facua.org/mercadona/aceite-de-oliva/aceite-de-oliva-suave-hacendado-garrafa-3-l/',\n",
       " 'https://super.facua.org/mercadona/aceite-de-oliva/aceite-de-oliva-virgen-extra-hacendado-spray-200-ml/',\n",
       " 'https://super.facua.org/mercadona/aceite-de-oliva/aceite-de-oliva-virgen-extra-hacendado-botella-1-l/',\n",
       " 'https://super.facua.org/mercadona/aceite-de-oliva/aceite-de-oliva-virgen-extra-hacendado-garrafa-3-l/',\n",
       " 'https://super.facua.org/mercadona/aceite-de-oliva/aceite-de-oliva-virgen-extra-hacendado-gran-seleccion-botella-750-ml/',\n",
       " 'https://super.facua.org/mercadona/aceite-de-oliva/aceite-de-oliva-virgen-extra-picual-casa-juncal-botella-500-ml/',\n",
       " 'https://super.facua.org/mercadona/aceite-de-oliva/aceite-de-oliva-virgen-hacendado-botella-1-l/',\n",
       " 'https://super.facua.org/mercadona/aceite-de-oliva/aceite-de-oliva-virgen-hacendado-garrafa-3-l/']"
      ]
     },
     "execution_count": 70,
     "metadata": {},
     "output_type": "execute_result"
    }
   ],
   "source": [
    "urls"
   ]
  }
 ],
 "metadata": {
  "kernelspec": {
   "display_name": "Python 3",
   "language": "python",
   "name": "python3"
  },
  "language_info": {
   "codemirror_mode": {
    "name": "ipython",
    "version": 3
   },
   "file_extension": ".py",
   "mimetype": "text/x-python",
   "name": "python",
   "nbconvert_exporter": "python",
   "pygments_lexer": "ipython3",
   "version": "3.12.6"
  }
 },
 "nbformat": 4,
 "nbformat_minor": 2
}
