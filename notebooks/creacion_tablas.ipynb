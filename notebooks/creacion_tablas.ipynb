{
 "cells": [
  {
   "cell_type": "code",
   "execution_count": 288,
   "metadata": {},
   "outputs": [],
   "source": [
    "import pandas as pd\n",
    "import psycopg2\n",
    "from psycopg2 import OperationalError, errorcodes\n"
   ]
  },
  {
   "cell_type": "code",
   "execution_count": 289,
   "metadata": {},
   "outputs": [
    {
     "name": "stdout",
     "output_type": "stream",
     "text": [
      "Conexión realizada con éxito\n"
     ]
    }
   ],
   "source": [
    "\n",
    "try:\n",
    "    conexion = psycopg2.connect(\n",
    "        database=\"facua\",  \n",
    "        user=\"postgres\",  \n",
    "        password=\"admin\",\n",
    "        host=\"localhost\"\n",
    "        )\n",
    "    print(\"Conexión realizada con éxito\")\n",
    "except OperationalError as e:\n",
    "        # Manejo de errores comunes\n",
    "    if e.pgcode == errorcodes.INVALID_PASSWORD:\n",
    "            print(\"Contraseña inválida.\")\n",
    "    elif e.pgcode == errorcodes.CONNECTION_EXCEPTION:\n",
    "            print(\"Error de conexión.\")\n",
    "    else:\n",
    "        print(f\"Ocurrió un error: {e}\")\n",
    "    \n",
    "    "
   ]
  },
  {
   "cell_type": "code",
   "execution_count": 290,
   "metadata": {},
   "outputs": [],
   "source": [
    "cursor = conexion.cursor()\n",
    "   "
   ]
  },
  {
   "cell_type": "code",
   "execution_count": 291,
   "metadata": {},
   "outputs": [],
   "source": [
    "cursor.execute('''\n",
    "CREATE TABLE IF NOT EXISTS Supermercados (\n",
    "    id_supermercado INT PRIMARY KEY,\n",
    "    nombre VARCHAR(255) \n",
    ");\n",
    "''')\n",
    "\n",
    "cursor.execute('''\n",
    "CREATE TABLE IF NOT EXISTS Productos (\n",
    "    id_producto SERIAL PRIMARY KEY,\n",
    "    id_supermercado INT,\n",
    "    categoria VARCHAR(255),\n",
    "    producto VARCHAR(255) ,\n",
    "    marca VARCHAR(255),\n",
    "    Volumen VARCHAR(255),\n",
    "    FOREIGN KEY (id_supermercado) REFERENCES Supermercados(id_supermercado)\n",
    ");\n",
    "''')\n",
    "\n",
    "cursor.execute('''\n",
    "CREATE TABLE IF NOT EXISTS Precios (\n",
    "    id_precio SERIAL PRIMARY KEY,\n",
    "    id_supermercado INT,\n",
    "    fecha DATE ,\n",
    "    precio DECIMAL(10, 2),\n",
    "    porcentaje INT ,\n",
    "    FOREIGN KEY (id_supermercado) REFERENCES Supermercados(id_supermercado)\n",
    ");\n",
    "''')\n",
    "\n",
    "\n",
    "conexion.commit()\n",
    "\n"
   ]
  },
  {
   "cell_type": "code",
   "execution_count": 292,
   "metadata": {},
   "outputs": [],
   "source": [
    "df_mercado=pd.read_csv('../datos/datos_supermercados_limpios.csv')"
   ]
  },
  {
   "cell_type": "code",
   "execution_count": 293,
   "metadata": {},
   "outputs": [
    {
     "data": {
      "text/plain": [
       "Unnamed: 0.1         int64\n",
       "Unnamed: 0           int64\n",
       "fecha               object\n",
       "Precio             float64\n",
       "Supermercado        object\n",
       "Categoria           object\n",
       "producto            object\n",
       "Porcentaje         float64\n",
       "Marca               object\n",
       "Volumen             object\n",
       "id_supermercado      int64\n",
       "dtype: object"
      ]
     },
     "execution_count": 293,
     "metadata": {},
     "output_type": "execute_result"
    }
   ],
   "source": [
    "df_mercado.dtypes"
   ]
  },
  {
   "cell_type": "code",
   "execution_count": 294,
   "metadata": {},
   "outputs": [
    {
     "data": {
      "text/plain": [
       "(1, 'mercadona')"
      ]
     },
     "execution_count": 294,
     "metadata": {},
     "output_type": "execute_result"
    }
   ],
   "source": [
    "lista_tuplas_mercados = []\n",
    "for fila in df_mercado[['id_supermercado','Supermercado']].values:\n",
    "    lista_tuplas_mercados.append(tuple(fila))\n",
    "\n",
    "lista_tuplas_mercados[1]"
   ]
  },
  {
   "cell_type": "code",
   "execution_count": 295,
   "metadata": {},
   "outputs": [],
   "source": [
    "\n",
    "query_insercion_super = '''\n",
    "    insert into Supermercados (id_supermercado,nombre)\n",
    "    values (%s,%s)  ON CONFLICT (id_supermercado) DO NOTHING '''\n",
    "\n",
    "cursor.executemany(query_insercion_super, lista_tuplas_mercados)\n",
    "conexion.commit()"
   ]
  },
  {
   "cell_type": "code",
   "execution_count": 296,
   "metadata": {},
   "outputs": [
    {
     "data": {
      "text/plain": [
       "(1, 'aceite de girasol', 'aceite de girasol refinado ', nan, nan)"
      ]
     },
     "execution_count": 296,
     "metadata": {},
     "output_type": "execute_result"
    }
   ],
   "source": [
    "lista_tuplas_productos = []\n",
    "for fila in df_mercado[['id_supermercado','Categoria', 'producto', 'Marca','Volumen']].values:\n",
    "    lista_tuplas_productos.append(tuple(fila))\n",
    "\n",
    "lista_tuplas_productos[1]"
   ]
  },
  {
   "cell_type": "code",
   "execution_count": 297,
   "metadata": {},
   "outputs": [],
   "source": [
    "query_insercion_productos = '''\n",
    "    insert into Productos (id_supermercado,categoria, producto, Marca,Volumen)\n",
    "    values\n",
    "    (%s,%s, %s, %s, %s)''' \n",
    "\n",
    "cursor.executemany(query_insercion_productos, lista_tuplas_productos)\n",
    " \n",
    "conexion.commit()"
   ]
  },
  {
   "cell_type": "code",
   "execution_count": 298,
   "metadata": {},
   "outputs": [
    {
     "data": {
      "text/plain": [
       "(1, '13/07/2024', 1.45, 0.0)"
      ]
     },
     "execution_count": 298,
     "metadata": {},
     "output_type": "execute_result"
    }
   ],
   "source": [
    "lista_tuplas_precios = []\n",
    "for fila in df_mercado[['id_supermercado','fecha', 'Precio', 'Porcentaje']].values:\n",
    "    lista_tuplas_precios.append(tuple(fila))\n",
    "\n",
    "lista_tuplas_precios[1]"
   ]
  },
  {
   "cell_type": "code",
   "execution_count": 299,
   "metadata": {},
   "outputs": [],
   "source": [
    "query_insercion_precios = '''\n",
    "    INSERT INTO Precios (id_supermercado,fecha,Precio, Porcentaje)\n",
    "    values\n",
    "    (%s,%s, %s, %s)''' \n",
    "\n",
    "cursor.executemany(query_insercion_precios, lista_tuplas_precios)\n",
    " \n",
    "conexion.commit()"
   ]
  }
 ],
 "metadata": {
  "kernelspec": {
   "display_name": "Python 3",
   "language": "python",
   "name": "python3"
  },
  "language_info": {
   "codemirror_mode": {
    "name": "ipython",
    "version": 3
   },
   "file_extension": ".py",
   "mimetype": "text/x-python",
   "name": "python",
   "nbconvert_exporter": "python",
   "pygments_lexer": "ipython3",
   "version": "3.12.6"
  }
 },
 "nbformat": 4,
 "nbformat_minor": 2
}
